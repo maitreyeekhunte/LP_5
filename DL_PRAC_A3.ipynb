{
 "cells": [
  {
   "cell_type": "code",
   "execution_count": 68,
   "id": "bdfa7a0f",
   "metadata": {},
   "outputs": [],
   "source": [
    "import pandas as pd\n",
    "import matplotlib.pyplot as plt\n",
    "import numpy as np"
   ]
  },
  {
   "cell_type": "code",
   "execution_count": 69,
   "id": "ddf19483",
   "metadata": {},
   "outputs": [],
   "source": [
    "df=pd.read_csv(\"Google_Stock_Price_Train.csv\")"
   ]
  },
  {
   "cell_type": "code",
   "execution_count": 70,
   "id": "3635a681",
   "metadata": {},
   "outputs": [
    {
     "data": {
      "text/html": [
       "<div>\n",
       "<style scoped>\n",
       "    .dataframe tbody tr th:only-of-type {\n",
       "        vertical-align: middle;\n",
       "    }\n",
       "\n",
       "    .dataframe tbody tr th {\n",
       "        vertical-align: top;\n",
       "    }\n",
       "\n",
       "    .dataframe thead th {\n",
       "        text-align: right;\n",
       "    }\n",
       "</style>\n",
       "<table border=\"1\" class=\"dataframe\">\n",
       "  <thead>\n",
       "    <tr style=\"text-align: right;\">\n",
       "      <th></th>\n",
       "      <th>Date</th>\n",
       "      <th>Open</th>\n",
       "      <th>High</th>\n",
       "      <th>Low</th>\n",
       "      <th>Close</th>\n",
       "      <th>Volume</th>\n",
       "    </tr>\n",
       "  </thead>\n",
       "  <tbody>\n",
       "    <tr>\n",
       "      <th>0</th>\n",
       "      <td>01/03/2012</td>\n",
       "      <td>325.25</td>\n",
       "      <td>332.83</td>\n",
       "      <td>324.97</td>\n",
       "      <td>663.59</td>\n",
       "      <td>7,380,500</td>\n",
       "    </tr>\n",
       "    <tr>\n",
       "      <th>1</th>\n",
       "      <td>01/04/2012</td>\n",
       "      <td>331.27</td>\n",
       "      <td>333.87</td>\n",
       "      <td>329.08</td>\n",
       "      <td>666.45</td>\n",
       "      <td>5,749,400</td>\n",
       "    </tr>\n",
       "    <tr>\n",
       "      <th>2</th>\n",
       "      <td>01/05/2012</td>\n",
       "      <td>329.83</td>\n",
       "      <td>330.75</td>\n",
       "      <td>326.89</td>\n",
       "      <td>657.21</td>\n",
       "      <td>6,590,300</td>\n",
       "    </tr>\n",
       "    <tr>\n",
       "      <th>3</th>\n",
       "      <td>01/06/2012</td>\n",
       "      <td>328.34</td>\n",
       "      <td>328.77</td>\n",
       "      <td>323.68</td>\n",
       "      <td>648.24</td>\n",
       "      <td>5,405,900</td>\n",
       "    </tr>\n",
       "    <tr>\n",
       "      <th>4</th>\n",
       "      <td>01/09/2012</td>\n",
       "      <td>322.04</td>\n",
       "      <td>322.29</td>\n",
       "      <td>309.46</td>\n",
       "      <td>620.76</td>\n",
       "      <td>11,688,800</td>\n",
       "    </tr>\n",
       "  </tbody>\n",
       "</table>\n",
       "</div>"
      ],
      "text/plain": [
       "         Date    Open    High     Low   Close      Volume\n",
       "0  01/03/2012  325.25  332.83  324.97  663.59   7,380,500\n",
       "1  01/04/2012  331.27  333.87  329.08  666.45   5,749,400\n",
       "2  01/05/2012  329.83  330.75  326.89  657.21   6,590,300\n",
       "3  01/06/2012  328.34  328.77  323.68  648.24   5,405,900\n",
       "4  01/09/2012  322.04  322.29  309.46  620.76  11,688,800"
      ]
     },
     "execution_count": 70,
     "metadata": {},
     "output_type": "execute_result"
    }
   ],
   "source": [
    "df.head()"
   ]
  },
  {
   "cell_type": "code",
   "execution_count": 71,
   "id": "2d1ccd1b",
   "metadata": {},
   "outputs": [
    {
     "data": {
      "text/html": [
       "<div>\n",
       "<style scoped>\n",
       "    .dataframe tbody tr th:only-of-type {\n",
       "        vertical-align: middle;\n",
       "    }\n",
       "\n",
       "    .dataframe tbody tr th {\n",
       "        vertical-align: top;\n",
       "    }\n",
       "\n",
       "    .dataframe thead th {\n",
       "        text-align: right;\n",
       "    }\n",
       "</style>\n",
       "<table border=\"1\" class=\"dataframe\">\n",
       "  <thead>\n",
       "    <tr style=\"text-align: right;\">\n",
       "      <th></th>\n",
       "      <th>Open</th>\n",
       "      <th>High</th>\n",
       "      <th>Low</th>\n",
       "    </tr>\n",
       "  </thead>\n",
       "  <tbody>\n",
       "    <tr>\n",
       "      <th>count</th>\n",
       "      <td>1509.000000</td>\n",
       "      <td>1509.000000</td>\n",
       "      <td>1509.000000</td>\n",
       "    </tr>\n",
       "    <tr>\n",
       "      <th>mean</th>\n",
       "      <td>598.150026</td>\n",
       "      <td>602.587780</td>\n",
       "      <td>593.266736</td>\n",
       "    </tr>\n",
       "    <tr>\n",
       "      <th>std</th>\n",
       "      <td>202.607234</td>\n",
       "      <td>203.793158</td>\n",
       "      <td>201.418625</td>\n",
       "    </tr>\n",
       "    <tr>\n",
       "      <th>min</th>\n",
       "      <td>279.120000</td>\n",
       "      <td>281.210000</td>\n",
       "      <td>277.220000</td>\n",
       "    </tr>\n",
       "    <tr>\n",
       "      <th>25%</th>\n",
       "      <td>436.860000</td>\n",
       "      <td>438.780000</td>\n",
       "      <td>434.180000</td>\n",
       "    </tr>\n",
       "    <tr>\n",
       "      <th>50%</th>\n",
       "      <td>563.710000</td>\n",
       "      <td>568.930000</td>\n",
       "      <td>558.470000</td>\n",
       "    </tr>\n",
       "    <tr>\n",
       "      <th>75%</th>\n",
       "      <td>752.920000</td>\n",
       "      <td>758.130000</td>\n",
       "      <td>746.060000</td>\n",
       "    </tr>\n",
       "    <tr>\n",
       "      <th>max</th>\n",
       "      <td>1075.199951</td>\n",
       "      <td>1078.489990</td>\n",
       "      <td>1063.550049</td>\n",
       "    </tr>\n",
       "  </tbody>\n",
       "</table>\n",
       "</div>"
      ],
      "text/plain": [
       "              Open         High          Low\n",
       "count  1509.000000  1509.000000  1509.000000\n",
       "mean    598.150026   602.587780   593.266736\n",
       "std     202.607234   203.793158   201.418625\n",
       "min     279.120000   281.210000   277.220000\n",
       "25%     436.860000   438.780000   434.180000\n",
       "50%     563.710000   568.930000   558.470000\n",
       "75%     752.920000   758.130000   746.060000\n",
       "max    1075.199951  1078.489990  1063.550049"
      ]
     },
     "execution_count": 71,
     "metadata": {},
     "output_type": "execute_result"
    }
   ],
   "source": [
    "df.describe()"
   ]
  },
  {
   "cell_type": "code",
   "execution_count": 72,
   "id": "9b13cfb3",
   "metadata": {},
   "outputs": [
    {
     "data": {
      "text/plain": [
       "Index(['Date', 'Open', 'High', 'Low', 'Close', 'Volume'], dtype='object')"
      ]
     },
     "execution_count": 72,
     "metadata": {},
     "output_type": "execute_result"
    }
   ],
   "source": [
    "df.columns\n"
   ]
  },
  {
   "cell_type": "code",
   "execution_count": 73,
   "id": "836864da",
   "metadata": {},
   "outputs": [
    {
     "data": {
      "text/plain": [
       "Date       object\n",
       "Open      float64\n",
       "High      float64\n",
       "Low       float64\n",
       "Close      object\n",
       "Volume     object\n",
       "dtype: object"
      ]
     },
     "execution_count": 73,
     "metadata": {},
     "output_type": "execute_result"
    }
   ],
   "source": [
    "df.dtypes"
   ]
  },
  {
   "cell_type": "code",
   "execution_count": 74,
   "id": "3f4c14f6",
   "metadata": {},
   "outputs": [
    {
     "data": {
      "text/plain": [
       "array([[ 663.59    ],\n",
       "       [ 666.45    ],\n",
       "       [ 657.21    ],\n",
       "       ...,\n",
       "       [1049.369995],\n",
       "       [1048.140015],\n",
       "       [1046.400024]])"
      ]
     },
     "execution_count": 74,
     "metadata": {},
     "output_type": "execute_result"
    }
   ],
   "source": [
    "df['Close']=df['Close'].astype(str).str.replace(',', '')\n",
    "df['Close']=df['Close'].astype(float)\n",
    "data=df['Close'].values.reshape(-1,1)\n",
    "data"
   ]
  },
  {
   "cell_type": "code",
   "execution_count": 75,
   "id": "f313e812",
   "metadata": {},
   "outputs": [
    {
     "data": {
      "text/plain": [
       "Date       object\n",
       "Open      float64\n",
       "High      float64\n",
       "Low       float64\n",
       "Close     float64\n",
       "Volume     object\n",
       "dtype: object"
      ]
     },
     "execution_count": 75,
     "metadata": {},
     "output_type": "execute_result"
    }
   ],
   "source": [
    "df.dtypes"
   ]
  },
  {
   "cell_type": "code",
   "execution_count": 76,
   "id": "8324f19b",
   "metadata": {},
   "outputs": [],
   "source": [
    "from sklearn.preprocessing import MinMaxScaler\n",
    "sc=MinMaxScaler(feature_range=(0,1))\n",
    "data=sc.fit_transform(data)"
   ]
  },
  {
   "cell_type": "code",
   "execution_count": 77,
   "id": "383992c8",
   "metadata": {},
   "outputs": [
    {
     "data": {
      "text/plain": [
       "array([[0.23757287],\n",
       "       [0.24151427],\n",
       "       [0.22878051],\n",
       "       ...,\n",
       "       [0.39597315],\n",
       "       [0.39794386],\n",
       "       [0.41902898]])"
      ]
     },
     "execution_count": 77,
     "metadata": {},
     "output_type": "execute_result"
    }
   ],
   "source": [
    "train=data[: int(0.8*len(data))]\n",
    "test=data[int(0.8*len(data)) :]\n",
    "train"
   ]
  },
  {
   "cell_type": "code",
   "execution_count": 78,
   "id": "9dff4b98",
   "metadata": {},
   "outputs": [],
   "source": [
    "def dataSeq(arr,step=3):\n",
    "    x=[]\n",
    "    y=[]\n",
    "    for i in range(len(arr)-step):\n",
    "        x.append(arr[i:i+step,0])\n",
    "        y.append(arr[i+step,0])\n",
    "    return np.array(x),np.array(y)"
   ]
  },
  {
   "cell_type": "code",
   "execution_count": 79,
   "id": "6343abde",
   "metadata": {},
   "outputs": [],
   "source": [
    "X_train,Y_train=dataSeq(train)\n",
    "X_test,Y_test=dataSeq(test)"
   ]
  },
  {
   "cell_type": "code",
   "execution_count": 80,
   "id": "ec876884",
   "metadata": {},
   "outputs": [],
   "source": [
    "from tensorflow import keras\n",
    "from tensorflow.keras.models import Sequential\n",
    "from tensorflow.keras.layers import Dense,LSTM\n",
    "\n",
    "model=Sequential()\n",
    "model.add(keras.layers.LSTM(units=25,return_sequences=True,input_shape=(X_train.shape[1],1)))\n",
    "model.add(keras.layers.LSTM(units=25))\n",
    "model.add(keras.layers.Dense(units=1))"
   ]
  },
  {
   "cell_type": "code",
   "execution_count": 81,
   "id": "6491e7e8",
   "metadata": {},
   "outputs": [
    {
     "name": "stdout",
     "output_type": "stream",
     "text": [
      "Model: \"sequential_3\"\n",
      "_________________________________________________________________\n",
      " Layer (type)                Output Shape              Param #   \n",
      "=================================================================\n",
      " lstm_4 (LSTM)               (None, 3, 25)             2700      \n",
      "                                                                 \n",
      " lstm_5 (LSTM)               (None, 25)                5100      \n",
      "                                                                 \n",
      " dense_2 (Dense)             (None, 1)                 26        \n",
      "                                                                 \n",
      "=================================================================\n",
      "Total params: 7,826\n",
      "Trainable params: 7,826\n",
      "Non-trainable params: 0\n",
      "_________________________________________________________________\n"
     ]
    }
   ],
   "source": [
    "model.summary()"
   ]
  },
  {
   "cell_type": "code",
   "execution_count": 82,
   "id": "e4628fbd",
   "metadata": {},
   "outputs": [],
   "source": [
    "model.compile(optimizer=\"Adam\",loss=\"mse\")"
   ]
  },
  {
   "cell_type": "code",
   "execution_count": 83,
   "id": "1cb6ba0d",
   "metadata": {},
   "outputs": [
    {
     "name": "stdout",
     "output_type": "stream",
     "text": [
      "Epoch 1/25\n",
      "61/61 [==============================] - 5s 19ms/step - loss: 0.0648 - val_loss: 0.0215\n",
      "Epoch 2/25\n",
      "61/61 [==============================] - 0s 6ms/step - loss: 0.0074 - val_loss: 0.0027\n",
      "Epoch 3/25\n",
      "61/61 [==============================] - 0s 6ms/step - loss: 0.0021 - val_loss: 0.0011\n",
      "Epoch 4/25\n",
      "61/61 [==============================] - 0s 6ms/step - loss: 0.0019 - val_loss: 6.4685e-04\n",
      "Epoch 5/25\n",
      "61/61 [==============================] - 0s 6ms/step - loss: 0.0018 - val_loss: 6.4999e-04\n",
      "Epoch 6/25\n",
      "61/61 [==============================] - 0s 6ms/step - loss: 0.0017 - val_loss: 4.8832e-04\n",
      "Epoch 7/25\n",
      "61/61 [==============================] - 0s 6ms/step - loss: 0.0017 - val_loss: 3.9633e-04\n",
      "Epoch 8/25\n",
      "61/61 [==============================] - 0s 6ms/step - loss: 0.0017 - val_loss: 3.6881e-04\n",
      "Epoch 9/25\n",
      "61/61 [==============================] - 0s 6ms/step - loss: 0.0015 - val_loss: 0.0019\n",
      "Epoch 10/25\n",
      "61/61 [==============================] - 0s 7ms/step - loss: 0.0018 - val_loss: 4.1784e-04\n",
      "Epoch 11/25\n",
      "61/61 [==============================] - 0s 7ms/step - loss: 0.0015 - val_loss: 8.0665e-04\n",
      "Epoch 12/25\n",
      "61/61 [==============================] - 0s 7ms/step - loss: 0.0016 - val_loss: 5.5622e-04\n",
      "Epoch 13/25\n",
      "61/61 [==============================] - 0s 6ms/step - loss: 0.0015 - val_loss: 3.4814e-04\n",
      "Epoch 14/25\n",
      "61/61 [==============================] - 0s 6ms/step - loss: 0.0016 - val_loss: 5.4669e-04\n",
      "Epoch 15/25\n",
      "61/61 [==============================] - 0s 6ms/step - loss: 0.0016 - val_loss: 3.3134e-04\n",
      "Epoch 16/25\n",
      "61/61 [==============================] - 0s 6ms/step - loss: 0.0015 - val_loss: 3.2409e-04\n",
      "Epoch 17/25\n",
      "61/61 [==============================] - 0s 6ms/step - loss: 0.0015 - val_loss: 8.1147e-04\n",
      "Epoch 18/25\n",
      "61/61 [==============================] - 0s 7ms/step - loss: 0.0015 - val_loss: 4.1032e-04\n",
      "Epoch 19/25\n",
      "61/61 [==============================] - 0s 6ms/step - loss: 0.0015 - val_loss: 6.7494e-04\n",
      "Epoch 20/25\n",
      "61/61 [==============================] - 0s 6ms/step - loss: 0.0015 - val_loss: 3.5128e-04\n",
      "Epoch 21/25\n",
      "61/61 [==============================] - 0s 6ms/step - loss: 0.0015 - val_loss: 3.8851e-04\n",
      "Epoch 22/25\n",
      "61/61 [==============================] - 0s 6ms/step - loss: 0.0015 - val_loss: 5.1690e-04\n",
      "Epoch 23/25\n",
      "61/61 [==============================] - 0s 6ms/step - loss: 0.0015 - val_loss: 3.2247e-04\n",
      "Epoch 24/25\n",
      "61/61 [==============================] - 0s 6ms/step - loss: 0.0014 - val_loss: 0.0011\n",
      "Epoch 25/25\n",
      "61/61 [==============================] - 0s 7ms/step - loss: 0.0014 - val_loss: 3.4299e-04\n"
     ]
    },
    {
     "data": {
      "text/plain": [
       "<keras.callbacks.History at 0x197b6fe9ee0>"
      ]
     },
     "execution_count": 83,
     "metadata": {},
     "output_type": "execute_result"
    }
   ],
   "source": [
    "model.fit(X_train,Y_train,validation_data=(X_test,Y_test),epochs=25,batch_size=20)"
   ]
  },
  {
   "cell_type": "code",
   "execution_count": 84,
   "id": "b0589513",
   "metadata": {},
   "outputs": [
    {
     "name": "stdout",
     "output_type": "stream",
     "text": [
      "10/10 [==============================] - 1s 4ms/step\n"
     ]
    }
   ],
   "source": [
    "y_pred=model.predict(X_test)"
   ]
  },
  {
   "cell_type": "code",
   "execution_count": 85,
   "id": "918873cd",
   "metadata": {},
   "outputs": [],
   "source": [
    "y_pred=sc.inverse_transform(y_pred)"
   ]
  },
  {
   "cell_type": "code",
   "execution_count": 86,
   "id": "73c1cab9",
   "metadata": {},
   "outputs": [],
   "source": [
    "Y_test=sc.inverse_transform(Y_test.reshape(-1,1))"
   ]
  },
  {
   "cell_type": "code",
   "execution_count": 87,
   "id": "c140be4e",
   "metadata": {},
   "outputs": [
    {
     "data": {
      "image/png": "[encoded data removed]",
      "text/plain": [
       "<Figure size 432x288 with 1 Axes>"
      ]
     },
     "metadata": {
      "needs_background": "light"
     },
     "output_type": "display_data"
    }
   ],
   "source": [
    "import matplotlib.pyplot as plt\n",
    "plt.plot(Y_test, label='True Values')\n",
    "plt.plot(y_pred, label='Predicted Values')\n",
    "plt.legend()\n",
    "plt.show()"
   ]
  },
  {
   "cell_type": "code",
   "execution_count": 88,
   "id": "897f58bb",
   "metadata": {},
   "outputs": [
    {
     "name": "stdout",
     "output_type": "stream",
     "text": [
      "MAE:  10.315219418752609\n",
      "MSE:  180.5993257103488\n"
     ]
    }
   ],
   "source": [
    "from sklearn.metrics import mean_absolute_error, mean_squared_error\n",
    "mae = mean_absolute_error(Y_test, y_pred)\n",
    "mse = mean_squared_error(Y_test, y_pred)\n",
    "print('MAE: ', mae)\n",
    "print('MSE: ', mse)\n"
   ]
  },
  {
   "cell_type": "code",
   "execution_count": null,
   "id": "c448372b",
   "metadata": {},
   "outputs": [],
   "source": []
  }
 ],
 "metadata": {
  "kernelspec": {
   "display_name": "Python 3",
   "language": "python",
   "name": "python3"
  },
  "language_info": {
   "codemirror_mode": {
    "name": "ipython",
    "version": 3
   },
   "file_extension": ".py",
   "mimetype": "text/x-python",
   "name": "python",
   "nbconvert_exporter": "python",
   "pygments_lexer": "ipython3",
   "version": "3.9.4"
  }
 },
 "nbformat": 4,
 "nbformat_minor": 5
}
